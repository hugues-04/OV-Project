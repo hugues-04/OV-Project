{
 "cells": [
  {
   "cell_type": "code",
   "execution_count": 1,
   "metadata": {},
   "outputs": [
    {
     "name": "stdout",
     "output_type": "stream",
     "text": [
      "Requirement already satisfied: huggingface_hub in /home/jbcheze/.cache/pypoetry/virtualenvs/ov-project-pLFMpO-6-py3.11/lib/python3.11/site-packages (0.23.3)\n",
      "Requirement already satisfied: filelock in /home/jbcheze/.cache/pypoetry/virtualenvs/ov-project-pLFMpO-6-py3.11/lib/python3.11/site-packages (from huggingface_hub) (3.14.0)\n",
      "Requirement already satisfied: fsspec>=2023.5.0 in /home/jbcheze/.cache/pypoetry/virtualenvs/ov-project-pLFMpO-6-py3.11/lib/python3.11/site-packages (from huggingface_hub) (2024.6.0)\n",
      "Requirement already satisfied: packaging>=20.9 in /home/jbcheze/.cache/pypoetry/virtualenvs/ov-project-pLFMpO-6-py3.11/lib/python3.11/site-packages (from huggingface_hub) (23.2)\n",
      "Requirement already satisfied: pyyaml>=5.1 in /home/jbcheze/.cache/pypoetry/virtualenvs/ov-project-pLFMpO-6-py3.11/lib/python3.11/site-packages (from huggingface_hub) (6.0.1)\n",
      "Requirement already satisfied: requests in /home/jbcheze/.cache/pypoetry/virtualenvs/ov-project-pLFMpO-6-py3.11/lib/python3.11/site-packages (from huggingface_hub) (2.32.3)\n",
      "Requirement already satisfied: tqdm>=4.42.1 in /home/jbcheze/.cache/pypoetry/virtualenvs/ov-project-pLFMpO-6-py3.11/lib/python3.11/site-packages (from huggingface_hub) (4.66.4)\n",
      "Requirement already satisfied: typing-extensions>=3.7.4.3 in /home/jbcheze/.cache/pypoetry/virtualenvs/ov-project-pLFMpO-6-py3.11/lib/python3.11/site-packages (from huggingface_hub) (4.12.1)\n",
      "Requirement already satisfied: charset-normalizer<4,>=2 in /home/jbcheze/.cache/pypoetry/virtualenvs/ov-project-pLFMpO-6-py3.11/lib/python3.11/site-packages (from requests->huggingface_hub) (3.3.2)\n",
      "Requirement already satisfied: idna<4,>=2.5 in /home/jbcheze/.cache/pypoetry/virtualenvs/ov-project-pLFMpO-6-py3.11/lib/python3.11/site-packages (from requests->huggingface_hub) (3.7)\n",
      "Requirement already satisfied: urllib3<3,>=1.21.1 in /home/jbcheze/.cache/pypoetry/virtualenvs/ov-project-pLFMpO-6-py3.11/lib/python3.11/site-packages (from requests->huggingface_hub) (2.2.1)\n",
      "Requirement already satisfied: certifi>=2017.4.17 in /home/jbcheze/.cache/pypoetry/virtualenvs/ov-project-pLFMpO-6-py3.11/lib/python3.11/site-packages (from requests->huggingface_hub) (2024.6.2)\n",
      "Requirement already satisfied: chromadb in /home/jbcheze/.cache/pypoetry/virtualenvs/ov-project-pLFMpO-6-py3.11/lib/python3.11/site-packages (0.5.0)\n",
      "Requirement already satisfied: build>=1.0.3 in /home/jbcheze/.cache/pypoetry/virtualenvs/ov-project-pLFMpO-6-py3.11/lib/python3.11/site-packages (from chromadb) (1.2.1)\n",
      "Requirement already satisfied: requests>=2.28 in /home/jbcheze/.cache/pypoetry/virtualenvs/ov-project-pLFMpO-6-py3.11/lib/python3.11/site-packages (from chromadb) (2.32.3)\n",
      "Requirement already satisfied: pydantic>=1.9 in /home/jbcheze/.cache/pypoetry/virtualenvs/ov-project-pLFMpO-6-py3.11/lib/python3.11/site-packages (from chromadb) (2.7.3)\n",
      "Requirement already satisfied: chroma-hnswlib==0.7.3 in /home/jbcheze/.cache/pypoetry/virtualenvs/ov-project-pLFMpO-6-py3.11/lib/python3.11/site-packages (from chromadb) (0.7.3)\n",
      "Requirement already satisfied: fastapi>=0.95.2 in /home/jbcheze/.cache/pypoetry/virtualenvs/ov-project-pLFMpO-6-py3.11/lib/python3.11/site-packages (from chromadb) (0.110.3)\n",
      "Requirement already satisfied: uvicorn>=0.18.3 in /home/jbcheze/.cache/pypoetry/virtualenvs/ov-project-pLFMpO-6-py3.11/lib/python3.11/site-packages (from uvicorn[standard]>=0.18.3->chromadb) (0.23.2)\n",
      "Requirement already satisfied: numpy>=1.22.5 in /home/jbcheze/.cache/pypoetry/virtualenvs/ov-project-pLFMpO-6-py3.11/lib/python3.11/site-packages (from chromadb) (1.26.4)\n",
      "Requirement already satisfied: posthog>=2.4.0 in /home/jbcheze/.cache/pypoetry/virtualenvs/ov-project-pLFMpO-6-py3.11/lib/python3.11/site-packages (from chromadb) (3.5.0)\n",
      "Requirement already satisfied: typing-extensions>=4.5.0 in /home/jbcheze/.cache/pypoetry/virtualenvs/ov-project-pLFMpO-6-py3.11/lib/python3.11/site-packages (from chromadb) (4.12.1)\n",
      "Requirement already satisfied: onnxruntime>=1.14.1 in /home/jbcheze/.cache/pypoetry/virtualenvs/ov-project-pLFMpO-6-py3.11/lib/python3.11/site-packages (from chromadb) (1.18.0)\n",
      "Requirement already satisfied: opentelemetry-api>=1.2.0 in /home/jbcheze/.cache/pypoetry/virtualenvs/ov-project-pLFMpO-6-py3.11/lib/python3.11/site-packages (from chromadb) (1.25.0)\n",
      "Requirement already satisfied: opentelemetry-exporter-otlp-proto-grpc>=1.2.0 in /home/jbcheze/.cache/pypoetry/virtualenvs/ov-project-pLFMpO-6-py3.11/lib/python3.11/site-packages (from chromadb) (1.25.0)\n",
      "Requirement already satisfied: opentelemetry-instrumentation-fastapi>=0.41b0 in /home/jbcheze/.cache/pypoetry/virtualenvs/ov-project-pLFMpO-6-py3.11/lib/python3.11/site-packages (from chromadb) (0.46b0)\n",
      "Requirement already satisfied: opentelemetry-sdk>=1.2.0 in /home/jbcheze/.cache/pypoetry/virtualenvs/ov-project-pLFMpO-6-py3.11/lib/python3.11/site-packages (from chromadb) (1.25.0)\n",
      "Requirement already satisfied: tokenizers>=0.13.2 in /home/jbcheze/.cache/pypoetry/virtualenvs/ov-project-pLFMpO-6-py3.11/lib/python3.11/site-packages (from chromadb) (0.15.2)\n",
      "Requirement already satisfied: pypika>=0.48.9 in /home/jbcheze/.cache/pypoetry/virtualenvs/ov-project-pLFMpO-6-py3.11/lib/python3.11/site-packages (from chromadb) (0.48.9)\n",
      "Requirement already satisfied: tqdm>=4.65.0 in /home/jbcheze/.cache/pypoetry/virtualenvs/ov-project-pLFMpO-6-py3.11/lib/python3.11/site-packages (from chromadb) (4.66.4)\n",
      "Requirement already satisfied: overrides>=7.3.1 in /home/jbcheze/.cache/pypoetry/virtualenvs/ov-project-pLFMpO-6-py3.11/lib/python3.11/site-packages (from chromadb) (7.7.0)\n",
      "Requirement already satisfied: importlib-resources in /home/jbcheze/.cache/pypoetry/virtualenvs/ov-project-pLFMpO-6-py3.11/lib/python3.11/site-packages (from chromadb) (6.4.0)\n",
      "Requirement already satisfied: grpcio>=1.58.0 in /home/jbcheze/.cache/pypoetry/virtualenvs/ov-project-pLFMpO-6-py3.11/lib/python3.11/site-packages (from chromadb) (1.64.1)\n",
      "Requirement already satisfied: bcrypt>=4.0.1 in /home/jbcheze/.cache/pypoetry/virtualenvs/ov-project-pLFMpO-6-py3.11/lib/python3.11/site-packages (from chromadb) (4.1.3)\n",
      "Requirement already satisfied: typer>=0.9.0 in /home/jbcheze/.cache/pypoetry/virtualenvs/ov-project-pLFMpO-6-py3.11/lib/python3.11/site-packages (from chromadb) (0.9.4)\n",
      "Requirement already satisfied: kubernetes>=28.1.0 in /home/jbcheze/.cache/pypoetry/virtualenvs/ov-project-pLFMpO-6-py3.11/lib/python3.11/site-packages (from chromadb) (29.0.0)\n",
      "Requirement already satisfied: tenacity>=8.2.3 in /home/jbcheze/.cache/pypoetry/virtualenvs/ov-project-pLFMpO-6-py3.11/lib/python3.11/site-packages (from chromadb) (8.3.0)\n",
      "Requirement already satisfied: PyYAML>=6.0.0 in /home/jbcheze/.cache/pypoetry/virtualenvs/ov-project-pLFMpO-6-py3.11/lib/python3.11/site-packages (from chromadb) (6.0.1)\n",
      "Requirement already satisfied: mmh3>=4.0.1 in /home/jbcheze/.cache/pypoetry/virtualenvs/ov-project-pLFMpO-6-py3.11/lib/python3.11/site-packages (from chromadb) (4.1.0)\n",
      "Requirement already satisfied: orjson>=3.9.12 in /home/jbcheze/.cache/pypoetry/virtualenvs/ov-project-pLFMpO-6-py3.11/lib/python3.11/site-packages (from chromadb) (3.10.3)\n",
      "Requirement already satisfied: packaging>=19.1 in /home/jbcheze/.cache/pypoetry/virtualenvs/ov-project-pLFMpO-6-py3.11/lib/python3.11/site-packages (from build>=1.0.3->chromadb) (23.2)\n",
      "Requirement already satisfied: pyproject_hooks in /home/jbcheze/.cache/pypoetry/virtualenvs/ov-project-pLFMpO-6-py3.11/lib/python3.11/site-packages (from build>=1.0.3->chromadb) (1.1.0)\n",
      "Requirement already satisfied: starlette<0.38.0,>=0.37.2 in /home/jbcheze/.cache/pypoetry/virtualenvs/ov-project-pLFMpO-6-py3.11/lib/python3.11/site-packages (from fastapi>=0.95.2->chromadb) (0.37.2)\n",
      "Requirement already satisfied: certifi>=14.05.14 in /home/jbcheze/.cache/pypoetry/virtualenvs/ov-project-pLFMpO-6-py3.11/lib/python3.11/site-packages (from kubernetes>=28.1.0->chromadb) (2024.6.2)\n",
      "Requirement already satisfied: six>=1.9.0 in /home/jbcheze/.cache/pypoetry/virtualenvs/ov-project-pLFMpO-6-py3.11/lib/python3.11/site-packages (from kubernetes>=28.1.0->chromadb) (1.16.0)\n",
      "Requirement already satisfied: python-dateutil>=2.5.3 in /home/jbcheze/.cache/pypoetry/virtualenvs/ov-project-pLFMpO-6-py3.11/lib/python3.11/site-packages (from kubernetes>=28.1.0->chromadb) (2.9.0.post0)\n",
      "Requirement already satisfied: google-auth>=1.0.1 in /home/jbcheze/.cache/pypoetry/virtualenvs/ov-project-pLFMpO-6-py3.11/lib/python3.11/site-packages (from kubernetes>=28.1.0->chromadb) (2.29.0)\n",
      "Requirement already satisfied: websocket-client!=0.40.0,!=0.41.*,!=0.42.*,>=0.32.0 in /home/jbcheze/.cache/pypoetry/virtualenvs/ov-project-pLFMpO-6-py3.11/lib/python3.11/site-packages (from kubernetes>=28.1.0->chromadb) (1.8.0)\n",
      "Requirement already satisfied: requests-oauthlib in /home/jbcheze/.cache/pypoetry/virtualenvs/ov-project-pLFMpO-6-py3.11/lib/python3.11/site-packages (from kubernetes>=28.1.0->chromadb) (2.0.0)\n",
      "Requirement already satisfied: oauthlib>=3.2.2 in /home/jbcheze/.cache/pypoetry/virtualenvs/ov-project-pLFMpO-6-py3.11/lib/python3.11/site-packages (from kubernetes>=28.1.0->chromadb) (3.2.2)\n",
      "Requirement already satisfied: urllib3>=1.24.2 in /home/jbcheze/.cache/pypoetry/virtualenvs/ov-project-pLFMpO-6-py3.11/lib/python3.11/site-packages (from kubernetes>=28.1.0->chromadb) (2.2.1)\n",
      "Requirement already satisfied: coloredlogs in /home/jbcheze/.cache/pypoetry/virtualenvs/ov-project-pLFMpO-6-py3.11/lib/python3.11/site-packages (from onnxruntime>=1.14.1->chromadb) (15.0.1)\n",
      "Requirement already satisfied: flatbuffers in /home/jbcheze/.cache/pypoetry/virtualenvs/ov-project-pLFMpO-6-py3.11/lib/python3.11/site-packages (from onnxruntime>=1.14.1->chromadb) (24.3.25)\n",
      "Requirement already satisfied: protobuf in /home/jbcheze/.cache/pypoetry/virtualenvs/ov-project-pLFMpO-6-py3.11/lib/python3.11/site-packages (from onnxruntime>=1.14.1->chromadb) (4.25.3)\n",
      "Requirement already satisfied: sympy in /home/jbcheze/.cache/pypoetry/virtualenvs/ov-project-pLFMpO-6-py3.11/lib/python3.11/site-packages (from onnxruntime>=1.14.1->chromadb) (1.12.1)\n",
      "Requirement already satisfied: deprecated>=1.2.6 in /home/jbcheze/.cache/pypoetry/virtualenvs/ov-project-pLFMpO-6-py3.11/lib/python3.11/site-packages (from opentelemetry-api>=1.2.0->chromadb) (1.2.14)\n",
      "Requirement already satisfied: importlib-metadata<=7.1,>=6.0 in /home/jbcheze/.cache/pypoetry/virtualenvs/ov-project-pLFMpO-6-py3.11/lib/python3.11/site-packages (from opentelemetry-api>=1.2.0->chromadb) (7.1.0)\n",
      "Requirement already satisfied: googleapis-common-protos~=1.52 in /home/jbcheze/.cache/pypoetry/virtualenvs/ov-project-pLFMpO-6-py3.11/lib/python3.11/site-packages (from opentelemetry-exporter-otlp-proto-grpc>=1.2.0->chromadb) (1.63.1)\n",
      "Requirement already satisfied: opentelemetry-exporter-otlp-proto-common==1.25.0 in /home/jbcheze/.cache/pypoetry/virtualenvs/ov-project-pLFMpO-6-py3.11/lib/python3.11/site-packages (from opentelemetry-exporter-otlp-proto-grpc>=1.2.0->chromadb) (1.25.0)\n",
      "Requirement already satisfied: opentelemetry-proto==1.25.0 in /home/jbcheze/.cache/pypoetry/virtualenvs/ov-project-pLFMpO-6-py3.11/lib/python3.11/site-packages (from opentelemetry-exporter-otlp-proto-grpc>=1.2.0->chromadb) (1.25.0)\n",
      "Requirement already satisfied: opentelemetry-instrumentation-asgi==0.46b0 in /home/jbcheze/.cache/pypoetry/virtualenvs/ov-project-pLFMpO-6-py3.11/lib/python3.11/site-packages (from opentelemetry-instrumentation-fastapi>=0.41b0->chromadb) (0.46b0)\n",
      "Requirement already satisfied: opentelemetry-instrumentation==0.46b0 in /home/jbcheze/.cache/pypoetry/virtualenvs/ov-project-pLFMpO-6-py3.11/lib/python3.11/site-packages (from opentelemetry-instrumentation-fastapi>=0.41b0->chromadb) (0.46b0)\n",
      "Requirement already satisfied: opentelemetry-semantic-conventions==0.46b0 in /home/jbcheze/.cache/pypoetry/virtualenvs/ov-project-pLFMpO-6-py3.11/lib/python3.11/site-packages (from opentelemetry-instrumentation-fastapi>=0.41b0->chromadb) (0.46b0)\n",
      "Requirement already satisfied: opentelemetry-util-http==0.46b0 in /home/jbcheze/.cache/pypoetry/virtualenvs/ov-project-pLFMpO-6-py3.11/lib/python3.11/site-packages (from opentelemetry-instrumentation-fastapi>=0.41b0->chromadb) (0.46b0)\n",
      "Requirement already satisfied: setuptools>=16.0 in /home/jbcheze/.cache/pypoetry/virtualenvs/ov-project-pLFMpO-6-py3.11/lib/python3.11/site-packages (from opentelemetry-instrumentation==0.46b0->opentelemetry-instrumentation-fastapi>=0.41b0->chromadb) (70.0.0)\n",
      "Requirement already satisfied: wrapt<2.0.0,>=1.0.0 in /home/jbcheze/.cache/pypoetry/virtualenvs/ov-project-pLFMpO-6-py3.11/lib/python3.11/site-packages (from opentelemetry-instrumentation==0.46b0->opentelemetry-instrumentation-fastapi>=0.41b0->chromadb) (1.16.0)\n",
      "Requirement already satisfied: asgiref~=3.0 in /home/jbcheze/.cache/pypoetry/virtualenvs/ov-project-pLFMpO-6-py3.11/lib/python3.11/site-packages (from opentelemetry-instrumentation-asgi==0.46b0->opentelemetry-instrumentation-fastapi>=0.41b0->chromadb) (3.8.1)\n",
      "Requirement already satisfied: monotonic>=1.5 in /home/jbcheze/.cache/pypoetry/virtualenvs/ov-project-pLFMpO-6-py3.11/lib/python3.11/site-packages (from posthog>=2.4.0->chromadb) (1.6)\n",
      "Requirement already satisfied: backoff>=1.10.0 in /home/jbcheze/.cache/pypoetry/virtualenvs/ov-project-pLFMpO-6-py3.11/lib/python3.11/site-packages (from posthog>=2.4.0->chromadb) (2.2.1)\n",
      "Requirement already satisfied: annotated-types>=0.4.0 in /home/jbcheze/.cache/pypoetry/virtualenvs/ov-project-pLFMpO-6-py3.11/lib/python3.11/site-packages (from pydantic>=1.9->chromadb) (0.7.0)\n",
      "^C\n",
      "\u001b[31mERROR: Operation cancelled by user\u001b[0m\u001b[31m\n",
      "\u001b[0mRequirement already satisfied: langchain in /home/jbcheze/.cache/pypoetry/virtualenvs/ov-project-pLFMpO-6-py3.11/lib/python3.11/site-packages (0.2.3)\n",
      "Requirement already satisfied: PyYAML>=5.3 in /home/jbcheze/.cache/pypoetry/virtualenvs/ov-project-pLFMpO-6-py3.11/lib/python3.11/site-packages (from langchain) (6.0.1)\n",
      "Requirement already satisfied: SQLAlchemy<3,>=1.4 in /home/jbcheze/.cache/pypoetry/virtualenvs/ov-project-pLFMpO-6-py3.11/lib/python3.11/site-packages (from langchain) (2.0.30)\n",
      "Requirement already satisfied: aiohttp<4.0.0,>=3.8.3 in /home/jbcheze/.cache/pypoetry/virtualenvs/ov-project-pLFMpO-6-py3.11/lib/python3.11/site-packages (from langchain) (3.9.5)\n",
      "Requirement already satisfied: langchain-core<0.3.0,>=0.2.0 in /home/jbcheze/.cache/pypoetry/virtualenvs/ov-project-pLFMpO-6-py3.11/lib/python3.11/site-packages (from langchain) (0.2.4)\n",
      "Requirement already satisfied: langchain-text-splitters<0.3.0,>=0.2.0 in /home/jbcheze/.cache/pypoetry/virtualenvs/ov-project-pLFMpO-6-py3.11/lib/python3.11/site-packages (from langchain) (0.2.1)\n",
      "Requirement already satisfied: langsmith<0.2.0,>=0.1.17 in /home/jbcheze/.cache/pypoetry/virtualenvs/ov-project-pLFMpO-6-py3.11/lib/python3.11/site-packages (from langchain) (0.1.72)\n",
      "Requirement already satisfied: numpy<2,>=1 in /home/jbcheze/.cache/pypoetry/virtualenvs/ov-project-pLFMpO-6-py3.11/lib/python3.11/site-packages (from langchain) (1.26.4)\n",
      "Requirement already satisfied: pydantic<3,>=1 in /home/jbcheze/.cache/pypoetry/virtualenvs/ov-project-pLFMpO-6-py3.11/lib/python3.11/site-packages (from langchain) (2.7.3)\n",
      "Requirement already satisfied: requests<3,>=2 in /home/jbcheze/.cache/pypoetry/virtualenvs/ov-project-pLFMpO-6-py3.11/lib/python3.11/site-packages (from langchain) (2.32.3)\n",
      "Requirement already satisfied: tenacity<9.0.0,>=8.1.0 in /home/jbcheze/.cache/pypoetry/virtualenvs/ov-project-pLFMpO-6-py3.11/lib/python3.11/site-packages (from langchain) (8.3.0)\n",
      "Requirement already satisfied: aiosignal>=1.1.2 in /home/jbcheze/.cache/pypoetry/virtualenvs/ov-project-pLFMpO-6-py3.11/lib/python3.11/site-packages (from aiohttp<4.0.0,>=3.8.3->langchain) (1.3.1)\n",
      "Requirement already satisfied: attrs>=17.3.0 in /home/jbcheze/.cache/pypoetry/virtualenvs/ov-project-pLFMpO-6-py3.11/lib/python3.11/site-packages (from aiohttp<4.0.0,>=3.8.3->langchain) (23.2.0)\n",
      "Requirement already satisfied: frozenlist>=1.1.1 in /home/jbcheze/.cache/pypoetry/virtualenvs/ov-project-pLFMpO-6-py3.11/lib/python3.11/site-packages (from aiohttp<4.0.0,>=3.8.3->langchain) (1.4.1)\n",
      "Requirement already satisfied: multidict<7.0,>=4.5 in /home/jbcheze/.cache/pypoetry/virtualenvs/ov-project-pLFMpO-6-py3.11/lib/python3.11/site-packages (from aiohttp<4.0.0,>=3.8.3->langchain) (6.0.5)\n",
      "Requirement already satisfied: yarl<2.0,>=1.0 in /home/jbcheze/.cache/pypoetry/virtualenvs/ov-project-pLFMpO-6-py3.11/lib/python3.11/site-packages (from aiohttp<4.0.0,>=3.8.3->langchain) (1.9.4)\n",
      "Requirement already satisfied: jsonpatch<2.0,>=1.33 in /home/jbcheze/.cache/pypoetry/virtualenvs/ov-project-pLFMpO-6-py3.11/lib/python3.11/site-packages (from langchain-core<0.3.0,>=0.2.0->langchain) (1.33)\n",
      "Requirement already satisfied: packaging<24.0,>=23.2 in /home/jbcheze/.cache/pypoetry/virtualenvs/ov-project-pLFMpO-6-py3.11/lib/python3.11/site-packages (from langchain-core<0.3.0,>=0.2.0->langchain) (23.2)\n",
      "Requirement already satisfied: orjson<4.0.0,>=3.9.14 in /home/jbcheze/.cache/pypoetry/virtualenvs/ov-project-pLFMpO-6-py3.11/lib/python3.11/site-packages (from langsmith<0.2.0,>=0.1.17->langchain) (3.10.3)\n",
      "Requirement already satisfied: annotated-types>=0.4.0 in /home/jbcheze/.cache/pypoetry/virtualenvs/ov-project-pLFMpO-6-py3.11/lib/python3.11/site-packages (from pydantic<3,>=1->langchain) (0.7.0)\n",
      "Requirement already satisfied: pydantic-core==2.18.4 in /home/jbcheze/.cache/pypoetry/virtualenvs/ov-project-pLFMpO-6-py3.11/lib/python3.11/site-packages (from pydantic<3,>=1->langchain) (2.18.4)\n",
      "Requirement already satisfied: typing-extensions>=4.6.1 in /home/jbcheze/.cache/pypoetry/virtualenvs/ov-project-pLFMpO-6-py3.11/lib/python3.11/site-packages (from pydantic<3,>=1->langchain) (4.12.1)\n",
      "Requirement already satisfied: charset-normalizer<4,>=2 in /home/jbcheze/.cache/pypoetry/virtualenvs/ov-project-pLFMpO-6-py3.11/lib/python3.11/site-packages (from requests<3,>=2->langchain) (3.3.2)\n",
      "Requirement already satisfied: idna<4,>=2.5 in /home/jbcheze/.cache/pypoetry/virtualenvs/ov-project-pLFMpO-6-py3.11/lib/python3.11/site-packages (from requests<3,>=2->langchain) (3.7)\n",
      "Requirement already satisfied: urllib3<3,>=1.21.1 in /home/jbcheze/.cache/pypoetry/virtualenvs/ov-project-pLFMpO-6-py3.11/lib/python3.11/site-packages (from requests<3,>=2->langchain) (2.2.1)\n",
      "Requirement already satisfied: certifi>=2017.4.17 in /home/jbcheze/.cache/pypoetry/virtualenvs/ov-project-pLFMpO-6-py3.11/lib/python3.11/site-packages (from requests<3,>=2->langchain) (2024.6.2)\n",
      "Requirement already satisfied: greenlet!=0.4.17 in /home/jbcheze/.cache/pypoetry/virtualenvs/ov-project-pLFMpO-6-py3.11/lib/python3.11/site-packages (from SQLAlchemy<3,>=1.4->langchain) (3.0.3)\n",
      "Requirement already satisfied: jsonpointer>=1.9 in /home/jbcheze/.cache/pypoetry/virtualenvs/ov-project-pLFMpO-6-py3.11/lib/python3.11/site-packages (from jsonpatch<2.0,>=1.33->langchain-core<0.3.0,>=0.2.0->langchain) (2.4)\n",
      "Collecting pypdf\n",
      "  Downloading pypdf-4.2.0-py3-none-any.whl.metadata (7.4 kB)\n",
      "Downloading pypdf-4.2.0-py3-none-any.whl (290 kB)\n",
      "\u001b[2K   \u001b[90m━━━━━━━━━━━━━━━━━━━━━━━━━━━━━━━━━━━━━━━━\u001b[0m \u001b[32m290.4/290.4 kB\u001b[0m \u001b[31m4.0 MB/s\u001b[0m eta \u001b[36m0:00:00\u001b[0m \u001b[36m0:00:01\u001b[0m\n",
      "\u001b[?25hInstalling collected packages: pypdf\n",
      "Successfully installed pypdf-4.2.0\n",
      "Requirement already satisfied: sentence-transformers in /home/jbcheze/.cache/pypoetry/virtualenvs/ov-project-pLFMpO-6-py3.11/lib/python3.11/site-packages (3.0.0)\n",
      "Requirement already satisfied: transformers<5.0.0,>=4.34.0 in /home/jbcheze/.cache/pypoetry/virtualenvs/ov-project-pLFMpO-6-py3.11/lib/python3.11/site-packages (from sentence-transformers) (4.39.3)\n",
      "Requirement already satisfied: tqdm in /home/jbcheze/.cache/pypoetry/virtualenvs/ov-project-pLFMpO-6-py3.11/lib/python3.11/site-packages (from sentence-transformers) (4.66.4)\n",
      "Requirement already satisfied: torch>=1.11.0 in /home/jbcheze/.cache/pypoetry/virtualenvs/ov-project-pLFMpO-6-py3.11/lib/python3.11/site-packages (from sentence-transformers) (2.3.0)\n",
      "Requirement already satisfied: numpy in /home/jbcheze/.cache/pypoetry/virtualenvs/ov-project-pLFMpO-6-py3.11/lib/python3.11/site-packages (from sentence-transformers) (1.26.4)\n",
      "Requirement already satisfied: scikit-learn in /home/jbcheze/.cache/pypoetry/virtualenvs/ov-project-pLFMpO-6-py3.11/lib/python3.11/site-packages (from sentence-transformers) (1.5.0)\n",
      "Requirement already satisfied: scipy in /home/jbcheze/.cache/pypoetry/virtualenvs/ov-project-pLFMpO-6-py3.11/lib/python3.11/site-packages (from sentence-transformers) (1.13.1)\n",
      "Requirement already satisfied: huggingface-hub>=0.15.1 in /home/jbcheze/.cache/pypoetry/virtualenvs/ov-project-pLFMpO-6-py3.11/lib/python3.11/site-packages (from sentence-transformers) (0.23.3)\n",
      "Requirement already satisfied: Pillow in /home/jbcheze/.cache/pypoetry/virtualenvs/ov-project-pLFMpO-6-py3.11/lib/python3.11/site-packages (from sentence-transformers) (10.3.0)\n",
      "Requirement already satisfied: filelock in /home/jbcheze/.cache/pypoetry/virtualenvs/ov-project-pLFMpO-6-py3.11/lib/python3.11/site-packages (from huggingface-hub>=0.15.1->sentence-transformers) (3.14.0)\n",
      "Requirement already satisfied: fsspec>=2023.5.0 in /home/jbcheze/.cache/pypoetry/virtualenvs/ov-project-pLFMpO-6-py3.11/lib/python3.11/site-packages (from huggingface-hub>=0.15.1->sentence-transformers) (2024.6.0)\n",
      "Requirement already satisfied: packaging>=20.9 in /home/jbcheze/.cache/pypoetry/virtualenvs/ov-project-pLFMpO-6-py3.11/lib/python3.11/site-packages (from huggingface-hub>=0.15.1->sentence-transformers) (23.2)\n",
      "Requirement already satisfied: pyyaml>=5.1 in /home/jbcheze/.cache/pypoetry/virtualenvs/ov-project-pLFMpO-6-py3.11/lib/python3.11/site-packages (from huggingface-hub>=0.15.1->sentence-transformers) (6.0.1)\n",
      "Requirement already satisfied: requests in /home/jbcheze/.cache/pypoetry/virtualenvs/ov-project-pLFMpO-6-py3.11/lib/python3.11/site-packages (from huggingface-hub>=0.15.1->sentence-transformers) (2.32.3)\n",
      "Requirement already satisfied: typing-extensions>=3.7.4.3 in /home/jbcheze/.cache/pypoetry/virtualenvs/ov-project-pLFMpO-6-py3.11/lib/python3.11/site-packages (from huggingface-hub>=0.15.1->sentence-transformers) (4.12.1)\n",
      "Requirement already satisfied: sympy in /home/jbcheze/.cache/pypoetry/virtualenvs/ov-project-pLFMpO-6-py3.11/lib/python3.11/site-packages (from torch>=1.11.0->sentence-transformers) (1.12.1)\n",
      "Requirement already satisfied: networkx in /home/jbcheze/.cache/pypoetry/virtualenvs/ov-project-pLFMpO-6-py3.11/lib/python3.11/site-packages (from torch>=1.11.0->sentence-transformers) (3.3)\n",
      "Requirement already satisfied: jinja2 in /home/jbcheze/.cache/pypoetry/virtualenvs/ov-project-pLFMpO-6-py3.11/lib/python3.11/site-packages (from torch>=1.11.0->sentence-transformers) (3.1.4)\n",
      "Requirement already satisfied: nvidia-cuda-nvrtc-cu12==12.1.105 in /home/jbcheze/.cache/pypoetry/virtualenvs/ov-project-pLFMpO-6-py3.11/lib/python3.11/site-packages (from torch>=1.11.0->sentence-transformers) (12.1.105)\n",
      "Requirement already satisfied: nvidia-cuda-runtime-cu12==12.1.105 in /home/jbcheze/.cache/pypoetry/virtualenvs/ov-project-pLFMpO-6-py3.11/lib/python3.11/site-packages (from torch>=1.11.0->sentence-transformers) (12.1.105)\n",
      "Requirement already satisfied: nvidia-cuda-cupti-cu12==12.1.105 in /home/jbcheze/.cache/pypoetry/virtualenvs/ov-project-pLFMpO-6-py3.11/lib/python3.11/site-packages (from torch>=1.11.0->sentence-transformers) (12.1.105)\n",
      "Requirement already satisfied: nvidia-cudnn-cu12==8.9.2.26 in /home/jbcheze/.cache/pypoetry/virtualenvs/ov-project-pLFMpO-6-py3.11/lib/python3.11/site-packages (from torch>=1.11.0->sentence-transformers) (8.9.2.26)\n",
      "Requirement already satisfied: nvidia-cublas-cu12==12.1.3.1 in /home/jbcheze/.cache/pypoetry/virtualenvs/ov-project-pLFMpO-6-py3.11/lib/python3.11/site-packages (from torch>=1.11.0->sentence-transformers) (12.1.3.1)\n",
      "Requirement already satisfied: nvidia-cufft-cu12==11.0.2.54 in /home/jbcheze/.cache/pypoetry/virtualenvs/ov-project-pLFMpO-6-py3.11/lib/python3.11/site-packages (from torch>=1.11.0->sentence-transformers) (11.0.2.54)\n",
      "Requirement already satisfied: nvidia-curand-cu12==10.3.2.106 in /home/jbcheze/.cache/pypoetry/virtualenvs/ov-project-pLFMpO-6-py3.11/lib/python3.11/site-packages (from torch>=1.11.0->sentence-transformers) (10.3.2.106)\n",
      "Requirement already satisfied: nvidia-cusolver-cu12==11.4.5.107 in /home/jbcheze/.cache/pypoetry/virtualenvs/ov-project-pLFMpO-6-py3.11/lib/python3.11/site-packages (from torch>=1.11.0->sentence-transformers) (11.4.5.107)\n",
      "Requirement already satisfied: nvidia-cusparse-cu12==12.1.0.106 in /home/jbcheze/.cache/pypoetry/virtualenvs/ov-project-pLFMpO-6-py3.11/lib/python3.11/site-packages (from torch>=1.11.0->sentence-transformers) (12.1.0.106)\n",
      "Requirement already satisfied: nvidia-nccl-cu12==2.20.5 in /home/jbcheze/.cache/pypoetry/virtualenvs/ov-project-pLFMpO-6-py3.11/lib/python3.11/site-packages (from torch>=1.11.0->sentence-transformers) (2.20.5)\n",
      "Requirement already satisfied: nvidia-nvtx-cu12==12.1.105 in /home/jbcheze/.cache/pypoetry/virtualenvs/ov-project-pLFMpO-6-py3.11/lib/python3.11/site-packages (from torch>=1.11.0->sentence-transformers) (12.1.105)\n",
      "Requirement already satisfied: triton==2.3.0 in /home/jbcheze/.cache/pypoetry/virtualenvs/ov-project-pLFMpO-6-py3.11/lib/python3.11/site-packages (from torch>=1.11.0->sentence-transformers) (2.3.0)\n",
      "Requirement already satisfied: nvidia-nvjitlink-cu12 in /home/jbcheze/.cache/pypoetry/virtualenvs/ov-project-pLFMpO-6-py3.11/lib/python3.11/site-packages (from nvidia-cusolver-cu12==11.4.5.107->torch>=1.11.0->sentence-transformers) (12.5.40)\n",
      "Requirement already satisfied: regex!=2019.12.17 in /home/jbcheze/.cache/pypoetry/virtualenvs/ov-project-pLFMpO-6-py3.11/lib/python3.11/site-packages (from transformers<5.0.0,>=4.34.0->sentence-transformers) (2024.5.15)\n",
      "Requirement already satisfied: tokenizers<0.19,>=0.14 in /home/jbcheze/.cache/pypoetry/virtualenvs/ov-project-pLFMpO-6-py3.11/lib/python3.11/site-packages (from transformers<5.0.0,>=4.34.0->sentence-transformers) (0.15.2)\n",
      "Requirement already satisfied: safetensors>=0.4.1 in /home/jbcheze/.cache/pypoetry/virtualenvs/ov-project-pLFMpO-6-py3.11/lib/python3.11/site-packages (from transformers<5.0.0,>=4.34.0->sentence-transformers) (0.4.3)\n",
      "Requirement already satisfied: joblib>=1.2.0 in /home/jbcheze/.cache/pypoetry/virtualenvs/ov-project-pLFMpO-6-py3.11/lib/python3.11/site-packages (from scikit-learn->sentence-transformers) (1.4.2)\n",
      "Requirement already satisfied: threadpoolctl>=3.1.0 in /home/jbcheze/.cache/pypoetry/virtualenvs/ov-project-pLFMpO-6-py3.11/lib/python3.11/site-packages (from scikit-learn->sentence-transformers) (3.5.0)\n",
      "Requirement already satisfied: MarkupSafe>=2.0 in /home/jbcheze/.cache/pypoetry/virtualenvs/ov-project-pLFMpO-6-py3.11/lib/python3.11/site-packages (from jinja2->torch>=1.11.0->sentence-transformers) (2.1.5)\n",
      "Requirement already satisfied: charset-normalizer<4,>=2 in /home/jbcheze/.cache/pypoetry/virtualenvs/ov-project-pLFMpO-6-py3.11/lib/python3.11/site-packages (from requests->huggingface-hub>=0.15.1->sentence-transformers) (3.3.2)\n",
      "Requirement already satisfied: idna<4,>=2.5 in /home/jbcheze/.cache/pypoetry/virtualenvs/ov-project-pLFMpO-6-py3.11/lib/python3.11/site-packages (from requests->huggingface-hub>=0.15.1->sentence-transformers) (3.7)\n",
      "Requirement already satisfied: urllib3<3,>=1.21.1 in /home/jbcheze/.cache/pypoetry/virtualenvs/ov-project-pLFMpO-6-py3.11/lib/python3.11/site-packages (from requests->huggingface-hub>=0.15.1->sentence-transformers) (2.2.1)\n",
      "Requirement already satisfied: certifi>=2017.4.17 in /home/jbcheze/.cache/pypoetry/virtualenvs/ov-project-pLFMpO-6-py3.11/lib/python3.11/site-packages (from requests->huggingface-hub>=0.15.1->sentence-transformers) (2024.6.2)\n",
      "Requirement already satisfied: mpmath<1.4.0,>=1.1.0 in /home/jbcheze/.cache/pypoetry/virtualenvs/ov-project-pLFMpO-6-py3.11/lib/python3.11/site-packages (from sympy->torch>=1.11.0->sentence-transformers) (1.3.0)\n"
     ]
    }
   ],
   "source": [
    "!pip install huggingface_hub\n",
    "!pip install chromadb\n",
    "!pip install langchain\n",
    "!pip install pypdf\n",
    "!pip install sentence-transformers"
   ]
  },
  {
   "cell_type": "code",
   "execution_count": 88,
   "metadata": {},
   "outputs": [],
   "source": [
    "from langchain.document_loaders import PyPDFLoader\n",
    "from langchain.text_splitter import CharacterTextSplitter\n",
    "from langchain.embeddings import HuggingFaceEmbeddings\n",
    "from langchain.llms import huggingface_hub\n",
    "from langchain.vectorstores import Chroma\n",
    "from langchain.chains import conversational_retrieval"
   ]
  },
  {
   "cell_type": "code",
   "execution_count": 89,
   "metadata": {},
   "outputs": [],
   "source": [
    "# Load the pdf file and split it into smaller chunks\n",
    "loader = PyPDFLoader(\"./pdf_doc/Compromis n°1 de vente d'immeuble entier BOUILLAGUET _ CHEZE [36442].pdf\")\n",
    "documents = loader.load()\n",
    "\n",
    "# Split the documents into smaller chunks\n",
    "text_splitter = CharacterTextSplitter(\n",
    "    chunk_size=1000, chunk_overlap=0\n",
    ")  # Le paramètre chunk_overlap détermine le nombre de caractères qui se chevauchent entre deux segments de texte consécutifs lors du découpage du texte en morceaux (chunks).\n",
    "texts = text_splitter.split_documents(documents)"
   ]
  },
  {
   "cell_type": "code",
   "execution_count": 90,
   "metadata": {},
   "outputs": [
    {
     "name": "stderr",
     "output_type": "stream",
     "text": [
      "/home/jbcheze/.cache/pypoetry/virtualenvs/ov-project-pLFMpO-6-py3.11/lib/python3.11/site-packages/huggingface_hub/file_download.py:1132: FutureWarning: `resume_download` is deprecated and will be removed in version 1.0.0. Downloads always resume when possible. If you want to force a new download, use `force_download=True`.\n",
      "  warnings.warn(\n"
     ]
    }
   ],
   "source": [
    "# We will use HuggingFace embeddings\n",
    "embeddings = HuggingFaceEmbeddings()"
   ]
  },
  {
   "cell_type": "code",
   "execution_count": 91,
   "metadata": {},
   "outputs": [],
   "source": [
    "# Using Chroma vector database to store and retrieve embeddings of our text\n",
    "db = Chroma.from_documents(texts, embeddings) # Creation de la base de donné vectorielle chroma \n",
    "retriever = db.as_retriever(search_kwargs={\"k\": 2}) # retriever sert à faire des recherches sémantiques."
   ]
  },
  {
   "cell_type": "code",
   "execution_count": 92,
   "metadata": {},
   "outputs": [],
   "source": [
    "import os\n",
    "from dotenv import load_dotenv"
   ]
  },
  {
   "cell_type": "code",
   "execution_count": 93,
   "metadata": {},
   "outputs": [],
   "source": [
    "# We are using Mistral-7B for this question answering\n",
    "from langchain_community.llms import VLLMOpenAI\n",
    "load_dotenv()\n",
    "mixtral_api_key = os.getenv(\"MIXTRAL_API_KEY\")\n",
    "MIXTRAL_API_BASE = os.getenv(\"MIXTRAL_API_BASE\")\n",
    "huggingfacehub_api_token = os.getenv(\"huggingfacehub_api_token\")\n",
    "\n",
    "llm = VLLMOpenAI(\n",
    "        openai_api_key=mixtral_api_key,\n",
    "        openai_api_base=MIXTRAL_API_BASE,\n",
    "        model_name=\"mistralai/Mixtral-8X7B-Instruct-v0.1\",\n",
    "        temperature=0.0,\n",
    "        max_tokens=7000,\n",
    "    )"
   ]
  },
  {
   "cell_type": "code",
   "execution_count": 94,
   "metadata": {},
   "outputs": [],
   "source": [
    "from langchain.chains import ConversationalRetrievalChain\n",
    "\n",
    "# Create the Conversational Retrieval Chain\n",
    "qa_chain = ConversationalRetrievalChain.from_llm(\n",
    "    llm, retriever, return_source_documents=True\n",
    ")"
   ]
  },
  {
   "cell_type": "code",
   "execution_count": 95,
   "metadata": {},
   "outputs": [
    {
     "name": "stdout",
     "output_type": "stream",
     "text": [
      "Answer:  The text does not provide information about when Olivier was born.\n",
      "\n",
      "Answer:   The text does not provide information about Cheze's birthdate.\n",
      "\n",
      "Answer:  The buyer is not explicitly named in the provided text.\n",
      "\n",
      "Answer:  The provided document is a set of guidelines for writing a thesis or report. It includes instructions for formatting the document, creating an introduction and conclusion, writing the main body, and including annexes. The document also provides guidelines for the oral presentation of the work, which should last 30 minutes and include a 10-minute PowerPoint presentation followed by 20 minutes of questions and answers. The document emphasizes the importance of proper citation and warns against plagiarism. It also provides specific instructions for formatting the document in Word and creating a PDF version. The document is intended to help students write and present their theses or reports in a clear and professional manner.\n",
      "\n",
      "Exiting\n"
     ]
    },
    {
     "ename": "SystemExit",
     "evalue": "",
     "output_type": "error",
     "traceback": [
      "An exception has occurred, use %tb to see the full traceback.\n",
      "\u001b[0;31mSystemExit\u001b[0m\n"
     ]
    },
    {
     "name": "stderr",
     "output_type": "stream",
     "text": [
      "/home/jbcheze/.cache/pypoetry/virtualenvs/ov-project-pLFMpO-6-py3.11/lib/python3.11/site-packages/IPython/core/interactiveshell.py:3585: UserWarning: To exit: use 'exit', 'quit', or Ctrl-D.\n",
      "  warn(\"To exit: use 'exit', 'quit', or Ctrl-D.\", stacklevel=1)\n"
     ]
    }
   ],
   "source": [
    "# We will run an infinite loop to ask questions to LLM and retrieve answers untill the user wants to quit\n",
    "import sys\n",
    "\n",
    "chat_history = []\n",
    "while True:\n",
    "    query = input(\"Prompt: \")\n",
    "    # To exit: use 'exit', 'quit', 'q', or Ctrl-D.\",\n",
    "    if query.lower() in [\"exit\", \"quit\", \"q\"]:\n",
    "        print(\"Exiting\")\n",
    "        sys.exit()\n",
    "    result = qa_chain({\"question\": query, \"chat_history\": chat_history})\n",
    "    print(\"Answer: \" + result[\"answer\"] + \"\\n\")\n",
    "    chat_history.append((query, result[\"answer\"]))"
   ]
  }
 ],
 "metadata": {
  "kernelspec": {
   "display_name": "ov-project-pLFMpO-6-py3.11",
   "language": "python",
   "name": "python3"
  },
  "language_info": {
   "codemirror_mode": {
    "name": "ipython",
    "version": 3
   },
   "file_extension": ".py",
   "mimetype": "text/x-python",
   "name": "python",
   "nbconvert_exporter": "python",
   "pygments_lexer": "ipython3",
   "version": "3.11.9"
  }
 },
 "nbformat": 4,
 "nbformat_minor": 2
}
