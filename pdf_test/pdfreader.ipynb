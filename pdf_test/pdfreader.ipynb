{
 "cells": [
  {
   "cell_type": "code",
   "execution_count": 1,
   "metadata": {},
   "outputs": [],
   "source": [
    "from PyPDF2 import PdfReader"
   ]
  },
  {
   "cell_type": "code",
   "execution_count": 1,
   "metadata": {},
   "outputs": [
    {
     "name": "stdout",
     "output_type": "stream",
     "text": [
      "Requirement already satisfied: PyPDF2 in /home/jbcheze/.cache/pypoetry/virtualenvs/ov-project-pLFMpO-6-py3.11/lib/python3.11/site-packages (3.0.1)\n"
     ]
    }
   ],
   "source": [
    "!pip install PyPDF2"
   ]
  },
  {
   "cell_type": "code",
   "execution_count": 2,
   "metadata": {},
   "outputs": [],
   "source": [
    "from langchain_community.llms import VLLMOpenAI\n",
    "import os\n",
    "from dotenv import load_dotenv\n",
    "\n",
    "load_dotenv()\n",
    "\n",
    "mixtral_api_key = os.getenv(\"MIXTRAL_API_KEY\")\n",
    "mixtral_api_base = os.getenv(\"MIXTRAL_API_BASE\")\n",
    "\n",
    "llm = VLLMOpenAI(\n",
    "    openai_api_key=mixtral_api_key,\n",
    "    openai_api_base=mixtral_api_base,\n",
    "    model_name=\"mistralai/Mixtral-8X7B-Instruct-v0.1\",\n",
    "    temperature=0.0,\n",
    "    max_tokens=7000,\n",
    ")\n"
   ]
  },
  {
   "cell_type": "code",
   "execution_count": 3,
   "metadata": {},
   "outputs": [],
   "source": [
    "def get_pdf_text(pdf_docs):  # Objectif : Lire le texte de plusieurs fichiers PDF.\n",
    "    text = \"Bonjour je m'appelle jb\"\n",
    "    for pdf in pdf_docs:\n",
    "        pdf_reader = PdfReader(pdf)  # on lit chaque pdf\n",
    "        for page in pdf_reader.pages:\n",
    "            text += (\n",
    "                page.extract_text()\n",
    "            )  # On extrait le texte des pdf lu et on l'ajoute à text\n",
    "    return text"
   ]
  },
  {
   "cell_type": "code",
   "execution_count": null,
   "metadata": {},
   "outputs": [],
   "source": [
    "def _chain_generate_text_synthesis(\n",
    "    patient_documents,\n",
    "    synthesis_prompt\n",
    ") :\n",
    "    \n",
    "    \n",
    "    prompt = PromptTemplate.from_template(synthesis_prompt)\n",
    "\n",
    "    stuff_chain = load_summarize_chain(\n",
    "        llm= VLLMOpenAI(\n",
    "    openai_api_key=mixtral_api_key,\n",
    "    openai_api_base=mixtral_api_base,\n",
    "    model_name=\"mistralai/Mixtral-8X7B-Instruct-v0.1\",\n",
    "    temperature=0.0,\n",
    "    max_tokens=7000,\n",
    "),\n",
    "        chain_type=\"stuff\",\n",
    "        prompt=prompt,\n",
    "        verbose=verbose,\n",
    "    )\n",
    "    return stuff_chain.run(patient_documents)"
   ]
  },
  {
   "cell_type": "markdown",
   "metadata": {},
   "source": []
  }
 ],
 "metadata": {
  "kernelspec": {
   "display_name": "Python 3",
   "language": "python",
   "name": "python3"
  },
  "language_info": {
   "codemirror_mode": {
    "name": "ipython",
    "version": 3
   },
   "file_extension": ".py",
   "mimetype": "text/x-python",
   "name": "python",
   "nbconvert_exporter": "python",
   "pygments_lexer": "ipython3",
   "version": "3.11.9"
  }
 },
 "nbformat": 4,
 "nbformat_minor": 2
}
