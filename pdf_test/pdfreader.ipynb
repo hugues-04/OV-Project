{
 "cells": [
  {
   "cell_type": "code",
   "execution_count": 3,
   "metadata": {},
   "outputs": [],
   "source": [
    "from PyPDF2 import PdfReader"
   ]
  },
  {
   "cell_type": "code",
   "execution_count": 1,
   "metadata": {},
   "outputs": [
    {
     "name": "stdout",
     "output_type": "stream",
     "text": [
      "• Forfait de Base : 99 €\n",
      "• Forfait Premium : 199 €\n",
      "• Forfait Entreprise : 499 €\n",
      "• Forfait Entreprise de la page 2 : 499 €\n"
     ]
    }
   ],
   "source": [
    "import re\n",
    "from PyPDF2 import PdfReader\n",
    "\n",
    "\n",
    "def extract_prices_from_text(text):\n",
    "    # Utilise une expression régulière pour trouver les lignes contenant des prix\n",
    "    return re.findall(r\"•\\s.*?\\d+\\s*€\", text)\n",
    "\n",
    "\n",
    "# Chemin vers votre fichier PDF\n",
    "pdf_path = \"C:\\\\Users\\\\Jean-BaptisteCHEZE\\\\Desktop\\\\Official_Project\\\\PDF_Test\\\\texte1.pdf\"\n",
    "\n",
    "\n",
    "# Lecture du fichier PDF\n",
    "reader = PdfReader(pdf_path)\n",
    "\n",
    "# Extraction des prix de chaque page\n",
    "all_prices = []\n",
    "for page in reader.pages:\n",
    "    text = page.extract_text()\n",
    "    prices = extract_prices_from_text(text)\n",
    "    all_prices.extend(prices)\n",
    "\n",
    "# Affichage des prix extraits\n",
    "for price in all_prices:\n",
    "    print(price)"
   ]
  },
  {
   "cell_type": "markdown",
   "metadata": {},
   "source": []
  }
 ],
 "metadata": {
  "kernelspec": {
   "display_name": "Python 3",
   "language": "python",
   "name": "python3"
  },
  "language_info": {
   "codemirror_mode": {
    "name": "ipython",
    "version": 3
   },
   "file_extension": ".py",
   "mimetype": "text/x-python",
   "name": "python",
   "nbconvert_exporter": "python",
   "pygments_lexer": "ipython3",
   "version": "3.11.7"
  }
 },
 "nbformat": 4,
 "nbformat_minor": 2
}
