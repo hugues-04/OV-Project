{
 "cells": [
  {
   "cell_type": "code",
   "execution_count": 1,
   "metadata": {},
   "outputs": [],
   "source": [
    "import os\n",
    "from dotenv import load_dotenv\n",
    "from langchain_core.output_parsers import StrOutputParser\n",
    "\n",
    "from langchain.llms.vllm import VLLMOpenAI\n",
    "from langchain_core.prompts import PromptTemplate\n",
    "from langchain.chains.summarize import load_summarize_chain\n",
    "from pdf_to_vectorstore import get_pdf_text\n",
    "from langchain.text_splitter import CharacterTextSplitter"
   ]
  },
  {
   "cell_type": "code",
   "execution_count": 2,
   "metadata": {},
   "outputs": [],
   "source": [
    "def initiate_mixtral():\n",
    "\n",
    "    load_dotenv()\n",
    "    mixtral_api_key = os.getenv(\"MIXTRAL_API_KEY\")\n",
    "    mixtral_api_base = os.getenv(\"MIXTRAL_API_BASE\")\n",
    "\n",
    "    llm = VLLMOpenAI(\n",
    "        openai_api_key=mixtral_api_key,\n",
    "        openai_api_base=mixtral_api_base,\n",
    "        model_name=\"mistralai/Mixtral-8X7B-Instruct-v0.1\",\n",
    "        temperature=0.0,\n",
    "        max_tokens=7000,\n",
    "    )\n",
    "    return llm"
   ]
  },
  {
   "cell_type": "code",
   "execution_count": 3,
   "metadata": {},
   "outputs": [],
   "source": [
    "mixtralllm = initiate_mixtral()"
   ]
  },
  {
   "cell_type": "code",
   "execution_count": 4,
   "metadata": {},
   "outputs": [],
   "source": [
    "\n",
    "from PyPDF2 import PdfReader\n",
    "\n",
    "\n",
    "def get_pdf_text(pdf_docs):  # Objectif : Lire le texte de plusieurs fichiers PDF.\n",
    "    text = \"\"\n",
    "    for pdf in pdf_docs:\n",
    "        pdf_reader = PdfReader(pdf)  # on lit chaque pdf\n",
    "        for page in pdf_reader.pages:\n",
    "            text += (\n",
    "                page.extract_text()\n",
    "            )  # On extrait le texte des pdf lu et on l'ajoute à text\n",
    "    return text\n"
   ]
  },
  {
   "cell_type": "code",
   "execution_count": 5,
   "metadata": {},
   "outputs": [],
   "source": [
    "from langchain.document_loaders import PyPDFLoader\n",
    "\n",
    "INPUT_FILE=\"./pdf_doc/Compromis.pdf\"\n",
    "loader = PyPDFLoader(INPUT_FILE)\n",
    "docs = loader.load()"
   ]
  },
  {
   "cell_type": "code",
   "execution_count": 6,
   "metadata": {},
   "outputs": [],
   "source": [
    "doc_part1= docs[0:18]\n",
    "doc_part2= docs[18:]\n"
   ]
  },
  {
   "cell_type": "code",
   "execution_count": 7,
   "metadata": {},
   "outputs": [
    {
     "name": "stderr",
     "output_type": "stream",
     "text": [
      "c:\\Users\\ClementTEULIER\\AppData\\Local\\pypoetry\\Cache\\virtualenvs\\ov-project-JSYaqUAi-py3.12\\Lib\\site-packages\\langchain_core\\_api\\deprecation.py:119: LangChainDeprecationWarning: The class `LLMChain` was deprecated in LangChain 0.1.17 and will be removed in 0.3.0. Use RunnableSequence, e.g., `prompt | llm` instead.\n",
      "  warn_deprecated(\n"
     ]
    }
   ],
   "source": [
    "from langchain.chains.combine_documents.stuff import StuffDocumentsChain\n",
    "from langchain.chains.llm import LLMChain\n",
    "from langchain_core.prompts import PromptTemplate\n",
    "\n",
    "\n",
    "\n",
    "\n",
    "prompt_template = \"\"\"Voici mon texte:\n",
    "\"{text}\"\n",
    "Transforme cela en un résumé final qui sera organisé sous les sections suivantes:\n",
    "\"Vendeur et Acquéreur\" \n",
    "\"Bien Immobilier\" \n",
    "\"Hypothèque et servitudes\"\n",
    "\"Dossier du Diagnostic Technique (DDT)\"\n",
    "\"Montant final et Modalités de Paiement\"\n",
    "\"Promesse de Vente et Signature de Acte de Vente\"\n",
    "\"Montant des Indemnité et Immobilisation et Conditions Suspensives\"\n",
    "\n",
    "Tu rempliras chaque section avec les informations adéquates en organisant ton compte-rendu en bullet points. Tu écriras chaque titre de section.\n",
    "Si contenu pas mentionné, NE invente PAS de réponse.\n",
    "\"\"\"\n",
    "\n",
    "\n",
    "\n",
    "\n",
    "prompt = PromptTemplate.from_template(prompt_template)\n",
    "# Define LLM chain\n",
    "llm = mixtralllm\n",
    "llm_chain = LLMChain(llm=llm, prompt=prompt)\n",
    "\n",
    "# Define StuffDocumentsChain\n",
    "stuff_chain = StuffDocumentsChain(llm_chain=llm_chain, document_variable_name=\"text\")\n",
    "\n",
    "\n",
    "\n",
    "print(stuff_chain.invoke(doc_part1)[\"output_text\"])"
   ]
  },
  {
   "cell_type": "code",
   "execution_count": 19,
   "metadata": {},
   "outputs": [
    {
     "name": "stdout",
     "output_type": "stream",
     "text": [
      "\n",
      "Coordonnées du Vendeur et de l'Acquéreur\n",
      "- Coordonnées du Vendeur\n",
      "- Coordonnées de l'Acquéreur\n",
      "\n",
      "Bien Immobilier\n",
      "- Adresse du bien\n",
      "- Type de bien\n",
      "- Surface habitable\n",
      "- Nombre de pièces\n",
      "- Prix de vente\n",
      "\n",
      "Hypothèque et servitudes\n",
      "- Absence d'hypothèque\n",
      "- Absence de servitudes\n",
      "\n",
      "Dossier du Diagnostic Technique (DDT)\n",
      "- Amiante: présence dans les matériaux et produits, évaluation périodique recommandée\n",
      "- Electricité: anomalies constatées, état de l'installation intérieure d'électricité établi le 18 novembre 2021\n",
      "- Gaz: absence d'installation intérieure de gaz\n",
      "- Performance énergétique: consommation énergétique finale de 121 kwh/m²/an, émissions de gaz à effet de serre de 9 kgco2/m²/an\n",
      "- Termites: absence de termites\n",
      "- Mérule: absence de mérule\n",
      "- Risques et pollution: absence de risques naturels, risque sismique de niveau 1, commune située en zone à potentiel radon significatif\n",
      "- Assainissement: raccordement au réseau public d'assainissement collectif\n",
      "\n",
      "Montant et Modalités de Paiement\n",
      "- Prix de vente: 150 000 €\n",
      "- Montant des frais d'agence: 5 000 €\n",
      "- Montant des frais de notaire: 12 000 €\n",
      "- Montant total à payer: 167 000 €\n",
      "- Modalités de paiement: 10% du prix de vente à la signature de la promesse de vente, le solde à la signature de l'acte de vente définitif\n",
      "\n",
      "Durée de Validité de la Promesse de Vente et Date Limite de Signature de l'Acte de Vente Définitif\n",
      "- Durée de validité de la promesse de vente: 3 mois\n",
      "- Date limite de signature de l'acte de vente définitif: 3 mois après la signature de la promesse de vente\n",
      "\n",
      "Montant des Indemnité de Immobilisation et Conditions Suspensives\n",
      "- Montant de l'indemnité d'immobilisation: 5 000 €\n",
      "- Conditions suspensives: obtention d'un prêt immobilier, absence de servitudes, absence de préemption de la commune, absence de droit de préemption de l'Etat, absence de rétractation de l'acquéreur\n"
     ]
    }
   ],
   "source": [
    "print(stuff_chain.invoke(doc_part2)[\"output_text\"])"
   ]
  },
  {
   "cell_type": "code",
   "execution_count": null,
   "metadata": {},
   "outputs": [],
   "source": [
    "resume1= stuff_chain.invoke(doc_part1)[\"output_text\"]\n",
    "resume2= stuff_chain.invoke(doc_part2)[\"output_text\"]"
   ]
  }
 ],
 "metadata": {
  "kernelspec": {
   "display_name": "ov-project-JSYaqUAi-py3.12",
   "language": "python",
   "name": "python3"
  },
  "language_info": {
   "codemirror_mode": {
    "name": "ipython",
    "version": 3
   },
   "file_extension": ".py",
   "mimetype": "text/x-python",
   "name": "python",
   "nbconvert_exporter": "python",
   "pygments_lexer": "ipython3",
   "version": "3.12.2"
  }
 },
 "nbformat": 4,
 "nbformat_minor": 2
}
