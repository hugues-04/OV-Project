{
 "cells": [
  {
   "cell_type": "code",
   "execution_count": 8,
   "metadata": {},
   "outputs": [
    {
     "name": "stdout",
     "output_type": "stream",
     "text": [
      "Requirement already satisfied: cohere in c:\\users\\jean-baptistecheze\\anaconda3\\lib\\site-packages (5.5.4)\n",
      "Requirement already satisfied: boto3<2.0.0,>=1.34.0 in c:\\users\\jean-baptistecheze\\anaconda3\\lib\\site-packages (from cohere) (1.34.117)\n",
      "Requirement already satisfied: fastavro<2.0.0,>=1.9.4 in c:\\users\\jean-baptistecheze\\anaconda3\\lib\\site-packages (from cohere) (1.9.4)\n",
      "Requirement already satisfied: httpx>=0.21.2 in c:\\users\\jean-baptistecheze\\anaconda3\\lib\\site-packages (from cohere) (0.27.0)\n",
      "Requirement already satisfied: httpx-sse<0.5.0,>=0.4.0 in c:\\users\\jean-baptistecheze\\anaconda3\\lib\\site-packages (from cohere) (0.4.0)\n",
      "Requirement already satisfied: pydantic>=1.9.2 in c:\\users\\jean-baptistecheze\\anaconda3\\lib\\site-packages (from cohere) (1.10.12)\n",
      "Requirement already satisfied: requests<3.0.0,>=2.0.0 in c:\\users\\jean-baptistecheze\\anaconda3\\lib\\site-packages (from cohere) (2.31.0)\n",
      "Requirement already satisfied: tokenizers<0.16,>=0.15 in c:\\users\\jean-baptistecheze\\anaconda3\\lib\\site-packages (from cohere) (0.15.2)\n",
      "Requirement already satisfied: types-requests<3.0.0,>=2.0.0 in c:\\users\\jean-baptistecheze\\anaconda3\\lib\\site-packages (from cohere) (2.32.0.20240602)\n",
      "Requirement already satisfied: typing_extensions>=4.0.0 in c:\\users\\jean-baptistecheze\\appdata\\roaming\\python\\python311\\site-packages (from cohere) (4.12.1)\n",
      "Requirement already satisfied: botocore<1.35.0,>=1.34.117 in c:\\users\\jean-baptistecheze\\anaconda3\\lib\\site-packages (from boto3<2.0.0,>=1.34.0->cohere) (1.34.117)\n",
      "Requirement already satisfied: jmespath<2.0.0,>=0.7.1 in c:\\users\\jean-baptistecheze\\anaconda3\\lib\\site-packages (from boto3<2.0.0,>=1.34.0->cohere) (1.0.1)\n",
      "Requirement already satisfied: s3transfer<0.11.0,>=0.10.0 in c:\\users\\jean-baptistecheze\\anaconda3\\lib\\site-packages (from boto3<2.0.0,>=1.34.0->cohere) (0.10.1)\n",
      "Requirement already satisfied: anyio in c:\\users\\jean-baptistecheze\\anaconda3\\lib\\site-packages (from httpx>=0.21.2->cohere) (4.2.0)\n",
      "Requirement already satisfied: certifi in c:\\users\\jean-baptistecheze\\anaconda3\\lib\\site-packages (from httpx>=0.21.2->cohere) (2024.2.2)\n",
      "Requirement already satisfied: httpcore==1.* in c:\\users\\jean-baptistecheze\\anaconda3\\lib\\site-packages (from httpx>=0.21.2->cohere) (1.0.5)\n",
      "Requirement already satisfied: idna in c:\\users\\jean-baptistecheze\\anaconda3\\lib\\site-packages (from httpx>=0.21.2->cohere) (3.4)\n",
      "Requirement already satisfied: sniffio in c:\\users\\jean-baptistecheze\\anaconda3\\lib\\site-packages (from httpx>=0.21.2->cohere) (1.3.0)\n",
      "Requirement already satisfied: h11<0.15,>=0.13 in c:\\users\\jean-baptistecheze\\anaconda3\\lib\\site-packages (from httpcore==1.*->httpx>=0.21.2->cohere) (0.14.0)\n",
      "Requirement already satisfied: charset-normalizer<4,>=2 in c:\\users\\jean-baptistecheze\\anaconda3\\lib\\site-packages (from requests<3.0.0,>=2.0.0->cohere) (2.0.4)\n",
      "Requirement already satisfied: urllib3<3,>=1.21.1 in c:\\users\\jean-baptistecheze\\anaconda3\\lib\\site-packages (from requests<3.0.0,>=2.0.0->cohere) (2.0.7)\n",
      "Requirement already satisfied: huggingface_hub<1.0,>=0.16.4 in c:\\users\\jean-baptistecheze\\anaconda3\\lib\\site-packages (from tokenizers<0.16,>=0.15->cohere) (0.23.2)\n",
      "Requirement already satisfied: python-dateutil<3.0.0,>=2.1 in c:\\users\\jean-baptistecheze\\appdata\\roaming\\python\\python311\\site-packages (from botocore<1.35.0,>=1.34.117->boto3<2.0.0,>=1.34.0->cohere) (2.9.0.post0)\n",
      "Requirement already satisfied: filelock in c:\\users\\jean-baptistecheze\\anaconda3\\lib\\site-packages (from huggingface_hub<1.0,>=0.16.4->tokenizers<0.16,>=0.15->cohere) (3.13.1)\n",
      "Requirement already satisfied: fsspec>=2023.5.0 in c:\\users\\jean-baptistecheze\\anaconda3\\lib\\site-packages (from huggingface_hub<1.0,>=0.16.4->tokenizers<0.16,>=0.15->cohere) (2023.10.0)\n",
      "Requirement already satisfied: packaging>=20.9 in c:\\users\\jean-baptistecheze\\appdata\\roaming\\python\\python311\\site-packages (from huggingface_hub<1.0,>=0.16.4->tokenizers<0.16,>=0.15->cohere) (24.0)\n",
      "Requirement already satisfied: pyyaml>=5.1 in c:\\users\\jean-baptistecheze\\anaconda3\\lib\\site-packages (from huggingface_hub<1.0,>=0.16.4->tokenizers<0.16,>=0.15->cohere) (6.0.1)\n",
      "Requirement already satisfied: tqdm>=4.42.1 in c:\\users\\jean-baptistecheze\\anaconda3\\lib\\site-packages (from huggingface_hub<1.0,>=0.16.4->tokenizers<0.16,>=0.15->cohere) (4.65.0)\n",
      "Requirement already satisfied: six>=1.5 in c:\\users\\jean-baptistecheze\\appdata\\roaming\\python\\python311\\site-packages (from python-dateutil<3.0.0,>=2.1->botocore<1.35.0,>=1.34.117->boto3<2.0.0,>=1.34.0->cohere) (1.16.0)\n",
      "Requirement already satisfied: colorama in c:\\users\\jean-baptistecheze\\appdata\\roaming\\python\\python311\\site-packages (from tqdm>=4.42.1->huggingface_hub<1.0,>=0.16.4->tokenizers<0.16,>=0.15->cohere) (0.4.6)\n"
     ]
    }
   ],
   "source": [
    "!pip install cohere"
   ]
  },
  {
   "cell_type": "code",
   "execution_count": 6,
   "id": "ae4c5546",
   "metadata": {},
   "outputs": [],
   "source": [
    "import cohere\n",
    "\n",
    "co = cohere.Client(\"aNQr5ZTkCl5cV76YlLCktgp3xWpTsvMeLgGOCYsN\")"
   ]
  },
  {
   "cell_type": "code",
   "execution_count": null,
   "id": "84465b17",
   "metadata": {},
   "outputs": [],
   "source": [
    "message = \"Hello Word\""
   ]
  },
  {
   "cell_type": "code",
   "execution_count": 7,
   "id": "e0bda115",
   "metadata": {},
   "outputs": [
    {
     "name": "stdout",
     "output_type": "stream",
     "text": [
      "Poetry est un outil de gestion de dépendances et de construction de paquets pour Python, similaire à des outils comme pip ou conda. Il est conçu pour aider les développeurs à gérer les dépendances de leurs projets Python et à les empaqueter pour une distribution facile.\n",
      "\n",
      "Poetry est un outil populaire parmi les développeurs Python car il offre une approche plus moderne et conviviale pour gérer les dépendances et construire des paquets. Il fournit une interface en ligne de commande intuitive pour interagir avec votre projet Python et ses dépendances.\n",
      "\n",
      "Voici quelques fonctionnalités clés de Poetry :\n",
      "\n",
      "1. Gestion des dépendances : Poetry vous permet de spécifier et de gérer les dépendances de votre projet Python. Il utilise un fichier de verrouillage (poetry.lock) pour enregistrer les versions exactes des dépendances, garantissant ainsi la reproductibilité et la cohérence de l'environnement de votre projet.\n",
      "\n",
      "2. Environnements virtuels : Poetry crée et gère automatiquement des environnements virtuels pour vos projets. Cela vous permet d'isoler les dépendances du projet et d'éviter les conflits avec d'autres projets Python sur votre système.\n",
      "\n",
      "3. Construction et empaquetage : Poetry peut construire et empaqueter votre projet Python en paquets distribuables, tels que des roues (wheel) ou des fichiers source. Il gère également les métadonnées du paquet, telles que les dépendances, la version et les informations de l'auteur.\n",
      "\n",
      "4. Gestion des scripts : Poetry vous permet de définir des scripts personnalisés pour votre projet, tels que des scripts de démarrage ou de test, et les rend accessibles via la ligne de commande.\n",
      "\n",
      "5. Intégration : Poetry s'intègre bien avec d'autres outils et services de l'écosystème Python, tels que PyPI (Python Package Index) pour la distribution de paquets et des outils de contrôle de version comme Git.\n",
      "\n",
      "Pour utiliser Poetry sur votre projet Python, vous pouvez suivre les étapes suivantes :\n",
      "\n",
      "1. Installez Poetry sur votre système en suivant les instructions sur leur site officiel (https://python-poetry.org/docs/#installation).\n",
      "\n",
      "2. Accédez au répertoire de votre projet Python dans votre terminal ou invite de commandes.\n",
      "\n",
      "3. Initialisez votre projet avec Poetry en exécutant la commande :\n",
      "\n",
      "   ```\n",
      "   poetry init\n",
      "   ```\n",
      "\n",
      "   Cela vous guidera à travers un processus d'initialisation, en vous demandant des informations sur votre projet, telles que le nom, la version et les dépendances.\n",
      "\n",
      "4. Une fois l'initialisation terminée, vous pouvez installer les dépendances de votre projet en exécutant :\n",
      "\n",
      "   ```\n",
      "   poetry install\n",
      "   ```\n",
      "\n",
      "   Poetry créera un environnement virtuel et installera les dépendances spécifiées dans le fichier poetry.lock.\n",
      "\n",
      "5. Vous pouvez maintenant utiliser Poetry pour gérer les dépendances, construire des paquets ou exécuter des scripts pour votre projet.\n",
      "\n",
      "Par exemple, pour ajouter une nouvelle dépendance à votre projet, vous pouvez exécuter :\n",
      "```\n",
      "poetry add nom_de_la_dépendance\n",
      "```\n",
      "Poetry mettra à jour le fichier poetry.lock et installera la dépendance dans votre environnement virtuel.\n",
      "\n",
      "Poetry fournit une approche simplifiée et rationalisée pour gérer les dépendances et construire des paquets Python, le rendant ainsi un outil précieux pour les développeurs travaillant sur des projets Python. Il offre une expérience utilisateur conviviale tout en fournissant les fonctionnalités nécessaires pour gérer des projets Python complexes et leurs dépendances.\n"
     ]
    }
   ],
   "source": [
    "chat_history = []\n",
    "max_turn = 1\n",
    "\n",
    "for i in range(max_turn) : \n",
    "    msg = input(\"You : \")\n",
    "    \n",
    "\n",
    "\n",
    "    response = co.chat(\n",
    "        message=msg,\n",
    "        temperature=0.2#,\n",
    "        #chat_history=chat_history\n",
    "    )\n",
    "\n",
    "    answer = response.text\n",
    "\n",
    "    print(answer)\n",
    "        \n",
    "    # ajouter message et reponse au chat historique\n",
    "\n",
    "    # user_message = {\"user_name\" : \"User\", \"text\" : message}\n",
    "    # bot_message = {\"user_name\" : \"Chatbot\", \"text\" : answer}\n",
    "\n",
    "    # chat_history.append(user_message)\n",
    "    # chat_history.append(bot_message)"
   ]
  }
 ],
 "metadata": {
  "kernelspec": {
   "display_name": "base",
   "language": "python",
   "name": "python3"
  },
  "language_info": {
   "codemirror_mode": {
    "name": "ipython",
    "version": 3
   },
   "file_extension": ".py",
   "mimetype": "text/x-python",
   "name": "python",
   "nbconvert_exporter": "python",
   "pygments_lexer": "ipython3",
   "version": "3.11.9"
  }
 },
 "nbformat": 4,
 "nbformat_minor": 5
}
